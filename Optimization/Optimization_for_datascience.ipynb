{
  "cells": [
    {
      "cell_type": "markdown",
      "metadata": {
        "id": "Qr8TfmL6pisT"
      },
      "source": [
        "# OPTIMIZATION FOR DATA SCIENCE - HOMEWORK 1\n",
        "\n",
        "Mincato Emanuele: emanuele.mincato@studenti.unipd.it\n",
        "\n",
        "Schiavo Leonardo: leonardo.schiavo.1@studenti.unipd.it\n",
        "\n",
        "Caregari Alberto: alberto.caregari@studenti.unipd.it   \n",
        "\n"
      ]
    },
    {
      "cell_type": "markdown",
      "metadata": {
        "id": "k-XIDJ7q-YQr"
      },
      "source": [
        "# General part"
      ]
    },
    {
      "cell_type": "code",
      "execution_count": 1,
      "metadata": {
        "id": "2nnEJA0QWTNu"
      },
      "outputs": [],
      "source": [
        "import numpy as np\n",
        "import pandas as pd\n",
        "import math\n",
        "import matplotlib.pyplot as plt\n",
        "import matplotlib.patches as mpl_patches\n",
        "from scipy.stats import bernoulli    \n",
        "from scipy.stats import norm         \n",
        "from scipy.spatial.distance import hamming\n",
        "from scipy.optimize import line_search\n",
        "from sklearn.metrics.pairwise import rbf_kernel\n",
        "import time"
      ]
    },
    {
      "cell_type": "code",
      "execution_count": 2,
      "metadata": {
        "id": "UwsCo0IDCTlI"
      },
      "outputs": [],
      "source": [
        "# Loss function\n",
        "def loss_function(W_lab, W_unlab, lab, unk):\n",
        "\n",
        "  Y_lab = (lab - unk.T)**2      # difference between a labeled and an unlabeled point\n",
        "  Y_unlab = (unk - unk.T)**2    # difference between unlabeled points\n",
        "  fact_1 = np.sum(W_lab * Y_lab)\n",
        "  fact_2 = 0.5 * np.sum(W_unlab * Y_unlab)\n",
        "\n",
        "  return fact_1 + fact_2 # loss_value "
      ]
    },
    {
      "cell_type": "code",
      "execution_count": 3,
      "metadata": {
        "id": "ZF9oG2yfUGCG"
      },
      "outputs": [],
      "source": [
        "def weight_function(lab_points, unlab_points):\n",
        "  l_lab = 1.25 # hyperparameter\n",
        "  l_unlab = 1  \n",
        "  W_lab =  rbf_kernel(X = lab_points, Y = unlab_points, gamma = l_lab)\n",
        "  W_unlab = rbf_kernel(X = unlab_points, gamma = l_unlab)  \n",
        "  return W_lab, W_unlab\n"
      ]
    },
    {
      "cell_type": "code",
      "execution_count": 4,
      "metadata": {
        "id": "7VAELNe2-x42"
      },
      "outputs": [],
      "source": [
        "def armijo(W_lab, W_unlab, size, lab, unk, gamma= 1e-4,delta = 0.1,alpha = 3):\n",
        "    j = 1\n",
        "    f0_x = loss_function(W_lab, W_unlab, lab, unk) # loss_function\n",
        "    f1_x = 2 * np.sum(W_lab* ((-lab) + unk.T), axis = 0) + 2 * np.sum(W_unlab * ((-unk) + unk.T), axis = 0) # grad\n",
        "    d = -f1_x\n",
        "    while (j>0):\n",
        "        x_new = unk.T+alpha*d\n",
        "        f0_x_new = loss_function(W_lab, W_unlab, lab, x_new.T) # loss for the new point\n",
        "        if (f0_x_new<=f0_x+gamma*alpha*np.dot(f1_x,d.T)):\n",
        "            j = 0\n",
        "            alpha_armijo = alpha\n",
        "        else:\n",
        "            alpha = alpha*delta\n",
        "    f1_x = f1_x.reshape((size, 1))\n",
        "    return alpha_armijo*f1_x, f0_x"
      ]
    },
    {
      "cell_type": "code",
      "execution_count": 5,
      "metadata": {
        "id": "OGaQa1BiGJLW"
      },
      "outputs": [],
      "source": [
        "def normalize(df):\n",
        "    result = df.copy()\n",
        "    for feature_name in df.columns:\n",
        "      if type(np.array(df[feature_name])[0])!=str : # check on the type of data\n",
        "          max_value = df[feature_name].max()\n",
        "          min_value = df[feature_name].min()\n",
        "          result[feature_name] = (df[feature_name] - min_value) / (max_value - min_value)\n",
        "    return result"
      ]
    },
    {
      "cell_type": "code",
      "execution_count": 6,
      "metadata": {
        "id": "eac8V2ADQij4"
      },
      "outputs": [],
      "source": [
        "def calc_loss_accur(W, W_bar, labels, y,true_values):\n",
        "  value = loss_function(W, W_bar, labels, y)       \n",
        "  clusters = [-1 if c < 0 else 1 for c in y]\n",
        "  accuracy = 1 - hamming(clusters, true_values) \n",
        "  return [value, accuracy]"
      ]
    },
    {
      "cell_type": "code",
      "execution_count": 7,
      "metadata": {
        "id": "bO7OLgyat31x"
      },
      "outputs": [],
      "source": [
        "# OPTIMIZATION\n",
        "def optimization(W, W_bar, size_unk, labels, true_values, method, lnsrc, rate = 0.0001, epochs = 5000, tol = 1e-5): \n",
        "\n",
        "    # check condition\n",
        "    if (method != 'gd' and method != 'random' and method != 'cyclic' and method != 'GS'):\n",
        "      return print(\"Insert one of the following methods:\\n \\\"gd\\\" \\\"random\\\" \\\"cyclic\\\" \")\n",
        "    # check condition\n",
        "    if (lnsrc != 'fixed' and lnsrc != 'armijo' and lnsrc != 'exact'):\n",
        "      return print(\"Insert one of the following methods:\\n \\\"fixed\\\" \\\"armijo\\\" \\\"exact\\\"\")\n",
        "    size = size_unk\n",
        "    np.random.seed(42)\n",
        "    losses = []\n",
        "    times = [0]\n",
        "    epoch = 0\n",
        "    diff = 1\n",
        "    accuracies = []\n",
        "\n",
        "    y = (0.1 * np.random.randn(size)).reshape((-1,1)) # create a random starting point\n",
        "    if method == 'random':\n",
        "      while diff > tol and epoch < epochs:\n",
        "        if (not epoch%10000):  # calculate the loss function every 10000 epochs (heavy to compute at each iteration)\n",
        "          value = loss_function(W, W_bar, labels, y)\n",
        "          losses.append(value) \n",
        "          clusters = [-1 if c < 0 else 1 for c in y]\n",
        "          accuracy = 1 - hamming(clusters, true_values) \n",
        "          accuracies.append(accuracy)\n",
        "          print('Epoch: ' + str(epoch) + ', loss: ' + str(round(value,4))+ ', accuracy: ' + str(round(accuracy,6)))\n",
        "          diff = abs(losses[-1] - losses[-2]) if len(losses) > 2 else 1\n",
        "        trn1 = time.time()\n",
        "        index = np.random.randint(size) # choice of a random index\n",
        "        grad = 2 * np.dot(W.T[index].T,(y[index] - labels) ) + 2 * np.dot(W_bar.T[index].T, y[index] - y) # gradient only for the random index\n",
        "        y[index] = y[index] - rate * grad  # update only the random index of y\n",
        "        y = y.reshape((size, 1))\n",
        "        trn2 = time.time()\n",
        "        times.append(trn2 - trn1 + times[-1])\n",
        "        epoch += 1\n",
        "\n",
        "      app = calc_loss_accur(W, W_bar, labels, y,true_values) # loss and accuracy at the last epoch\n",
        "      losses.append(app[0])          \n",
        "      accuracies.append(app[1])\n",
        "\n",
        "      print('Epoch: ' + str(epoch) + ', loss: ' + str(round(app[0],6)) + ', accuracy: ' + str(round(app[1],6))) # print results for the last epoch\n",
        "      return y, losses, times, accuracies\n",
        "\n",
        "    else:       \n",
        "      while diff > tol and epoch < epochs:          \n",
        "          if (method == 'gd' and lnsrc == 'fixed'): \n",
        "              app = calc_loss_accur(W, W_bar, labels, y,true_values) # calculate the loss and the accuracy at each epochs\n",
        "              losses.append(app[0])          \n",
        "              accuracies.append(app[1])\n",
        "              if (not epoch%10):                      # print loss and accuracy every 10 epochs \n",
        "                 print('Epoch: ' + str(epoch) + ', loss: ' + str(round(app[0],4))+ ', accuracy: ' + str(round(app[1],6)))             \n",
        "              tgd1 = time.time()\n",
        "              grad = 2 * np.sum(W * ((-labels) + y.T), axis = 0) + 2 * np.sum(W_bar * ((-y) + y.T), axis = 0)\n",
        "              grad = grad.reshape((size, 1))\n",
        "              y -= rate * grad\n",
        "              y = y.reshape((size, 1))\n",
        "              tgd2 = time.time()\n",
        "              times.append(tgd2 - tgd1 + times[-1])\n",
        "              \n",
        "              diff = abs(losses[-1] - losses[-2]) if len(losses) > 2 else 1\n",
        "\n",
        "          if (method == 'gd' and lnsrc == 'exact'):  # exact line search\n",
        "              app = calc_loss_accur(W, W_bar, labels, y,true_values)\n",
        "              losses.append(app[0])          \n",
        "              accuracies.append(app[1])\n",
        "              if (not epoch%10):\n",
        "                 print('Epoch: ' + str(epoch) + ', loss: ' + str(round(app[0],4))+ ', accuracy: ' + str(round(app[1],6)))             \n",
        "              tgd1 = time.time()\n",
        "              grad = 2 * np.sum(W * ((-labels) + y.T), axis = 0) + 2 * np.sum(W_bar * ((-y) + y.T), axis = 0)\n",
        "              grad = grad.reshape((size, 1))\n",
        "              rate = line_search(fun_min_ls, grad_ls, y, -grad)[0]\n",
        "              y -= rate * grad\n",
        "              y = y.reshape((size, 1))\n",
        "              tgd2 = time.time()\n",
        "              times.append(tgd2 - tgd1 + times[-1])\n",
        "              \n",
        "              diff = abs(losses[-1] - losses[-2]) if len(losses) > 2 else 1  \n",
        "\n",
        "          if (method == 'gd' and lnsrc == 'armijo'):       # using armijo rule for step size      \n",
        "              tgd1 = time.time()\n",
        "              grad = 2 * np.sum(W * ((-labels) + y.T), axis = 0) + 2 * np.sum(W_bar * ((-y) + y.T), axis = 0)\n",
        "              grad = grad.reshape((size, 1))\n",
        "              [a_rate, value] =  armijo(W, W_bar, size,labels,y)  # return [alpha*grad, loss]\n",
        "              y -= a_rate \n",
        "              y = y.reshape((size, 1))\n",
        "              tgd2 = time.time()\n",
        "              times.append(tgd2 - tgd1 + times[-1])\n",
        "              \n",
        "              diff = abs(losses[-1] - losses[-2]) if len(losses) > 2 else 1\n",
        "              losses.append(value) \n",
        "              clusters = [-1 if c < 0 else 1 for c in y]\n",
        "              accuracy = 1 - hamming(clusters, true_values) \n",
        "              accuracies.append(accuracy)\n",
        "              if (not epoch%10):\n",
        "                 print('Epoch: ' + str(epoch) + ', loss: ' + str(round(value,4))+ ', accuracy: ' + str(round(accuracy,6)))   \n",
        "              \n",
        "          if (method == 'cyclic'and lnsrc == 'fixed'):\n",
        "              app = calc_loss_accur(W, W_bar, labels, y,true_values)\n",
        "              losses.append(app[0])          \n",
        "              accuracies.append(app[1])\n",
        "              if (not epoch%10):\n",
        "                 print('Epoch: ' + str(epoch) + ', loss: ' + str(round(app[0],4))+ ', accuracy: ' + str(round(app[1],6)))\n",
        "              tcy1 = time.time()\n",
        "              for index in range(size):       # cyclic update of the gradient\n",
        "                  grad = 2 * np.dot(W.T[index].T,(-labels) + y[index]) + 2 * np.dot(W_bar.T[index].T, (-y) + y[index])\n",
        "                  y[index] = y[index] - rate * grad\n",
        "                  y = y.reshape((size, 1))                \n",
        "                  \n",
        "              tcy2 = time.time()\n",
        "              times.append(tcy2 - tcy1 + times[-1])\n",
        "              diff = abs(losses[-1] - losses[-2]) if len(losses) > 2 else 1\n",
        "\n",
        "          epoch += 1\n",
        "        \n",
        "      value = loss_function(W, W_bar, labels, y)\n",
        "      losses.append(value)\n",
        "      \n",
        "      results = [-1 if c<0 else 1 for c in y]\n",
        "      accuracy =  1 - hamming(results, true_values)\n",
        "      accuracies.append(accuracy)\n",
        "      print('Epoch: ' + str(epoch) + ', loss: ' + str(round(value,6)) + ', accuracy: ' + str(round(accuracy,6)))\n",
        "      \n",
        "      return y, losses, times, accuracies"
      ]
    },
    {
      "cell_type": "markdown",
      "metadata": {
        "id": "WgAcTTnC_PiJ"
      },
      "source": [
        "# Toy Dataset"
      ]
    },
    {
      "cell_type": "markdown",
      "metadata": {
        "id": "N5g9cnlQgM3g"
      },
      "source": [
        "**Creation of dataset**"
      ]
    },
    {
      "cell_type": "code",
      "execution_count": 8,
      "metadata": {
        "id": "xLXLisIzAF-w"
      },
      "outputs": [],
      "source": [
        "def plot_err(opt, true_values,points, method):\n",
        "  y = opt[0]\n",
        "  clusters = [-1 if c < 0 else 1 for c in y]\n",
        "  boolean_v = (true_values == clusters)\n",
        "\n",
        "  fig, axs = plt.subplots()\n",
        "\n",
        "  unk_points_1 = pd.DataFrame(points[150:5000])\n",
        "  unk_points_1['match'] = boolean_v[:4850]\n",
        "  unk_points_1 = unk_points_1.to_numpy()\n",
        "\n",
        "  unk_points_2 = pd.DataFrame(points[5150:])\n",
        "  unk_points_2['match'] = boolean_v[4850:]\n",
        "  unk_points_2 = unk_points_2.to_numpy()\n",
        "\n",
        "  axs.scatter(unk_points_2[:,0][unk_points_2[:,3]==True], unk_points_2[:,1][unk_points_2[:,3]==True],s= 5, c='g');\n",
        "  axs.scatter(unk_points_2[:,0][unk_points_2[:,3]==False], unk_points_2[:,1][unk_points_2[:,3]==False],s= 10, c='r');\n",
        "  axs.scatter(unk_points_1[:,0][unk_points_1[:,3]==True], unk_points_1[:,1][unk_points_1[:,3]==True],s= 5, c='c');\n",
        "  axs.scatter(unk_points_1[:,0][unk_points_1[:,3]==False], unk_points_1[:,1][unk_points_1[:,3]==False],s= 10, c='r');\n",
        "  axs.set_title('Mistaken points ('+method+')')\n",
        "  fig.show()\n",
        "\n"
      ]
    },
    {
      "cell_type": "code",
      "execution_count": 9,
      "metadata": {
        "id": "SLP4VXw2pRy3"
      },
      "outputs": [],
      "source": [
        "def generate_points(n_points, vec, dim = 2 ):\n",
        "# n_points: number of points we want to generate\n",
        "# vec:  displacement vector of the two data clouds\n",
        "# dim: space dimension of my points\n",
        "  punti = []\n",
        "  lab_1 = []\n",
        "  lab_2 = []\n",
        "  n = int(n_points)/2\n",
        "  n_lab = n_points * 0.015 # 1.5% of points will be labeled\n",
        "  for i in range(int(n)):\n",
        "      r =   [norm.rvs(vec[i]) for i in range(dim)]\n",
        "      r_1 = [norm.rvs(-vec[i]) for i in range(dim)]\n",
        "      if i<n_lab : r.append(1), r_1.append(-1)\n",
        "      else : r.append(0), r_1.append(0)\n",
        "      lab_1.append(r)\n",
        "      lab_2.append(r_1)\n",
        "\n",
        "  punti = np.concatenate((lab_1,lab_2), axis=0)\n",
        "  points = np.array(punti)\n",
        "  return points"
      ]
    },
    {
      "cell_type": "code",
      "execution_count": 10,
      "metadata": {
        "id": "syEzeVLHCV02"
      },
      "outputs": [],
      "source": [
        "def plot_graph(points):\n",
        "    fig, axs = plt.subplots()\n",
        "    # unknow points\n",
        "    axs.scatter(points[:,0][points[:,2]==0], points[:,1][points[:,2]==0],s= 2, c='k')\n",
        "    # points of first set\n",
        "    axs.scatter(points[:,0][points[:,2]==-1], points[:,1][points[:,2]==-1],s= 10, c='g')\n",
        "    # points of second set\n",
        "    axs.scatter(points[:,0][points[:,2]==1], points[:,1][points[:,2]==1],s= 10, c='c')\n",
        "    axs.set_title('Toy Dataset')\n",
        "    return fig"
      ]
    },
    {
      "cell_type": "code",
      "execution_count": 11,
      "metadata": {
        "colab": {
          "base_uri": "https://localhost:8080/",
          "height": 281
        },
        "id": "Dffv3I-NCdQM",
        "outputId": "3811d1ab-6d94-4f60-e430-c4ea1584ba46"
      },
      "outputs": [
        {
          "output_type": "display_data",
          "data": {
            "text/plain": [
              "<Figure size 432x288 with 1 Axes>"
            ],
            "image/png": "[encoded data removed]"
          },
          "metadata": {
            "needs_background": "light"
          }
        }
      ],
      "source": [
        "# dimension and number of points in our dataset\n",
        "dim = 2\n",
        "num = 10000\n",
        "np.random.seed(423)\n",
        "\n",
        "# random vector\n",
        "mu = np.array(np.random.randn(dim)) \n",
        "while np.linalg.norm(mu) < 2.3 :    #  ensures that the two set will be separated\n",
        "    mu = np.array(np.random.randn(dim)) \n",
        "\n",
        "# creation of the dataset\n",
        "set_ = generate_points(num, mu, dim)\n",
        "grafico = plot_graph(set_)"
      ]
    },
    {
      "cell_type": "code",
      "execution_count": 12,
      "metadata": {
        "colab": {
          "base_uri": "https://localhost:8080/"
        },
        "id": "rm4KOEIUGMlo",
        "outputId": "930d7255-5e45-4950-cb96-dc572e573c85"
      },
      "outputs": [
        {
          "output_type": "stream",
          "name": "stdout",
          "text": [
            "[-0.36744634  2.64372818]\n"
          ]
        }
      ],
      "source": [
        "print(mu)"
      ]
    },
    {
      "cell_type": "code",
      "execution_count": 13,
      "metadata": {
        "colab": {
          "base_uri": "https://localhost:8080/"
        },
        "id": "z7j1QdxGurLq",
        "outputId": "bc2549dd-3ec5-4163-da50-c38caf2e3ab3"
      },
      "outputs": [
        {
          "output_type": "stream",
          "name": "stdout",
          "text": [
            "Number of known points in the cluster:  150 \n",
            "Number of known points in second cluster:  150 \n",
            "Total number of unknown points:  9700\n",
            "Size of labeled points: (300, 2)\n",
            "Size of unlabeled points: (9700, 2)\n"
          ]
        }
      ],
      "source": [
        "# divide points in the dataset\n",
        "know_p1= [i for i in set_ if i[2]==1]   # labeled first set\n",
        "know_m1 =[i for i in set_ if i[2]==-1]  # labeled second set\n",
        "notknow = [i for i in set_ if i[2]==0]  # all unlabeled\n",
        "print(\"Number of known points in the cluster: \", len(know_p1), \"\\nNumber of known points in second cluster: \",len(know_m1),\"\\nTotal number of unknown points: \", len(notknow))\n",
        "\n",
        "# find the index of points in order to use them in the optimization function\n",
        "num_l = int(num*0.015)  # percentage of labeled data\n",
        "lab_points_1 = set_[0:num_l] # extract labeled points\n",
        "lab_points_2 = set_[int(num/2):int(num/2+num_l)]\n",
        "lab_points_1 = np.delete(lab_points_1, [2],1)\n",
        "lab_points_2 = np.delete(lab_points_2, [2],1)\n",
        "lab_points = np.concatenate((lab_points_1,lab_points_2), axis = 0)\n",
        "unlab_points_1 = set_[num_l:int(num/2)] # extract unlabeled points\n",
        "unlab_points_2 = set_[int(num/2+num_l):]\n",
        "unlab_points_1 = np.delete(unlab_points_1, [2],1)\n",
        "unlab_points_2 = np.delete(unlab_points_2, [2],1)\n",
        "unlab_points = np.concatenate((unlab_points_1,unlab_points_2), axis = 0)\n",
        "\n",
        "print(f'Size of labeled points: {lab_points.shape}')\n",
        "print(f'Size of unlabeled points: {unlab_points.shape}')"
      ]
    },
    {
      "cell_type": "code",
      "execution_count": 14,
      "metadata": {
        "id": "3oTdUBR5v4Te"
      },
      "outputs": [],
      "source": [
        "#weight of our points\n",
        "[W_lab, W_unlab] = weight_function(lab_points, unlab_points)\n",
        "\n",
        "#labels\n",
        "np.shape(lab_points)\n",
        "labels = np.ones((300,1))\n",
        "labels[150:] = -1\n",
        "\n",
        "#target values (in order to calculate the accuracy)\n",
        "true_values = np.ones((9700,))\n",
        "true_values[4850:] = -1"
      ]
    },
    {
      "cell_type": "code",
      "execution_count": 15,
      "metadata": {
        "id": "lDFipGK3MNUD"
      },
      "outputs": [],
      "source": [
        "#weights for line_search\n",
        "W_lab_ls, W_unlab_ls = W_lab, W_unlab \n",
        "n_lab_p = lab_points.shape[0]\n",
        "labels_ls = np.ones((n_lab_p,1))\n",
        "labels_ls[int(n_lab_p/2):] = -1\n",
        "\n",
        "#specific functions for line_search\n",
        "def fun_min_ls(unk, W_lab = W_lab_ls, W_unlab= W_unlab_ls, lab=labels_ls):\n",
        "    \n",
        "    Y_lab = (lab - unk.T)**2      \n",
        "    Y_unlab = (unk - unk.T)**2    \n",
        "    fact_1 = np.sum(W_lab * Y_lab)\n",
        "    fact_2 = 0.5 * np.sum(W_unlab * Y_unlab)\n",
        "    \n",
        "    return fact_1 + fact_2 # loss_value \n",
        " \n",
        "\n",
        "def grad_ls(y, labels= labels_ls,W= W_lab_ls, W_bar=W_unlab_ls):\n",
        "    \n",
        "    g = (2 * np.sum(W * ((-labels) + y.T), axis = 0) + 2 * np.sum(W_bar * ((-y) + y.T), axis = 0))\n",
        "    \n",
        "    return g"
      ]
    },
    {
      "cell_type": "markdown",
      "metadata": {
        "id": "L7kozoYigTdo"
      },
      "source": [
        "Test different Optimization methods\n"
      ]
    },
    {
      "cell_type": "code",
      "execution_count": null,
      "metadata": {
        "colab": {
          "base_uri": "https://localhost:8080/"
        },
        "id": "fCRxGFqk7V2c",
        "outputId": "334e6baf-c998-4525-8467-6e8601d9b2b7"
      },
      "outputs": [
        {
          "output_type": "stream",
          "name": "stdout",
          "text": [
            "Optimization Fixed and Gradient Decent\n",
            "Epoch: 0, loss: 345853.2748, accuracy: 0.50567\n",
            "Epoch: 10, loss: 222732.746, accuracy: 0.930412\n",
            "Epoch: 20, loss: 198897.1346, accuracy: 0.980825\n",
            "Epoch: 30, loss: 179552.5129, accuracy: 0.989691\n",
            "Epoch: 40, loss: 162691.6613, accuracy: 0.992784\n",
            "Epoch: 50, loss: 147804.9841, accuracy: 0.994124\n",
            "Epoch: 60, loss: 134601.5185, accuracy: 0.994845\n",
            "Epoch: 70, loss: 122865.547303, accuracy: 0.994742\n",
            "*************************************************\n",
            "Optimization Fixed and Random\n",
            "Epoch: 0, loss: 345853.2748, accuracy: 0.50567\n",
            "Epoch: 10000, loss: 308596.4062, accuracy: 0.543402\n",
            "Epoch: 20000, loss: 284195.0901, accuracy: 0.597732\n",
            "Epoch: 30000, loss: 267753.8309, accuracy: 0.664742\n",
            "Epoch: 40000, loss: 255858.2534, accuracy: 0.728144\n",
            "Epoch: 50000, loss: 247082.6779, accuracy: 0.780309\n",
            "Epoch: 60000, loss: 240333.5566, accuracy: 0.826495\n",
            "Epoch: 70000, loss: 235094.6543, accuracy: 0.864948\n"
          ]
        }
      ],
      "source": [
        "# Test different Optimization methods\n",
        "\n",
        "#FIXED\n",
        "print(\"Optimization Fixed and Gradient Decent\")\n",
        "opt_fix_gd = optimization(W_lab, W_unlab,unlab_points.shape[0], labels,true_values, lnsrc = 'fixed', method = \"gd\", epochs = 70)\n",
        "print(\"*************************************************\")\n",
        "print(\"Optimization Fixed and Random\")\n",
        "opt_fix_ran = optimization(W_lab, W_unlab,unlab_points.shape[0], labels,true_values, lnsrc = 'fixed', method = \"random\", epochs = 700000)\n",
        "print(\"*************************************************\")\n",
        "print(\"Optimization Fixed and Cyclic\")\n",
        "opt_fix_cyc = optimization(W_lab, W_unlab,unlab_points.shape[0], labels,true_values, lnsrc = 'fixed', method = 'cyclic', epochs = 70)\n",
        "print(\"*************************************************\")\n",
        "\n",
        "#ARMIJO\n",
        "print(\"Optimization Armijo and Gradient Descent\")\n",
        "opt_arm_gd = optimization(W_lab, W_unlab,unlab_points.shape[0], labels,true_values, lnsrc = 'armijo', method = \"gd\", epochs = 30)\n",
        "print(\"*************************************************\")\n",
        "\n",
        "\n",
        "#EXACT \n",
        "print(\"Optimization Exact and Gradient Descent\")\n",
        "opt_exa_gd = optimization(W_lab, W_unlab,unlab_points.shape[0], labels,true_values, lnsrc = 'exact', method = \"gd\", epochs = 30) \n",
        "print(\"*************************************************\")\n"
      ]
    },
    {
      "cell_type": "markdown",
      "metadata": {
        "id": "i4FSJ_7Ogazc"
      },
      "source": [
        "**Plots functions**"
      ]
    },
    {
      "cell_type": "code",
      "execution_count": null,
      "metadata": {
        "id": "yGVBaxWves0e"
      },
      "outputs": [],
      "source": [
        "def produce_plot(opt, method,flag):\n",
        "\n",
        "  epochs = len(opt[1])\n",
        "  cputime = opt[2][-1]\n",
        "  losses = opt[1]\n",
        "  if method == 'random':\n",
        "    times = opt[2][0::10000]\n",
        "    epochs = len(times)*10000\n",
        "  else: times = opt[2]\n",
        "  accuracies = opt[3]\n",
        "  v_x =  np.array(accuracies)\n",
        "  if flag:\n",
        "    v_x = v_x > 0.99\n",
        "    sps = 2\n",
        "  else:\n",
        "    v_x = v_x > 0.95\n",
        "    sps = 0.5\n",
        "  v_x = np.where(v_x)[0][0]\n",
        "  fig, axes = plt.subplots(1, 2, figsize = (14,7))\n",
        "  fig.suptitle('Method = '+ method +'  Ephocs = ' + str(epochs), fontsize=20)\n",
        "  leg_1 = ['Accuracy = ' + str(round(accuracies[-1], 4)), 'CPU time = ' + str(round(times[-1],4))]\n",
        "  leg_2 = ['Loss = ' + str(round(losses[-1], 4)), 'CPU time = ' + str(round(times[-1],4))]  \n",
        "  handles = [mpl_patches.Rectangle((0, 0), 1, 1, fc=\"white\", ec=\"white\", lw=0, alpha=0)] * 3\n",
        "  axes[0].legend(handles,leg_2, loc = 'best', fontsize = 14)\n",
        "  axes[1].legend(handles,leg_1, loc = 'best', fontsize = 14)\n",
        "  axes[0].set_xlabel('Time', fontsize = 15)\n",
        "  axes[1].set_xlabel('Time', fontsize = 15)\n",
        "  axes[0].set_ylabel('Loss', fontsize = 15)\n",
        "  axes[1].set_ylabel('Accuracy', fontsize = 15)\n",
        "  axes[0].plot(times,losses)\n",
        "  axes[1].plot(times,accuracies)\n",
        "  axes[1].text(times[v_x]+sps, 0.9, 'Epochs = ' + str(v_x), bbox=dict(fill=False, edgecolor='black', linewidth=1))\n",
        "  axes[1].text(times[v_x]+sps, 0.885, 'CPU time = ' + str(round(times[v_x],3)), bbox=dict(fill=False, edgecolor='black', linewidth=1))\n",
        "  axes[1].vlines(times[v_x],0,1,colors='red', linestyles=':')\n",
        "  plt.ylim(0.8,1)\n",
        "  plt.rc('xtick',labelsize=12)\n",
        "  plt.rc('ytick',labelsize=12)\n",
        "  "
      ]
    },
    {
      "cell_type": "code",
      "execution_count": null,
      "metadata": {
        "id": "B9dg_aAAh0bT"
      },
      "outputs": [],
      "source": [
        "def produce_all_plot_loss(opt_gd, opt_cy, opt_rnd):\n",
        "  plt.figure()\n",
        "  plt.plot(opt_gd[2], opt_gd[1])\n",
        "  plt.plot(opt_cy[2], opt_cy[1])\n",
        "  plt.plot(opt_rnd[2][0::10000], opt_rnd[1])\n",
        "  plt.legend(['GD','Cyclic','Random'])\n",
        "  plt.xlabel('Time')\n",
        "  plt.ylabel('Loss')\n",
        "  plt.title('Time-Loss comparison between different methods')\n",
        "  plt.show()\n",
        "\n"
      ]
    },
    {
      "cell_type": "code",
      "execution_count": null,
      "metadata": {
        "id": "cnk7ri57xzlx"
      },
      "outputs": [],
      "source": [
        "def produce_all_plot_acc(opt_gd, opt_cy, opt_rnd, flag):\n",
        "  plt.figure()\n",
        "\n",
        "  plt.figure()\n",
        "  plt.plot(opt_gd[2], opt_gd[3], label = 'GD')\n",
        "  plt.plot(opt_cy[2][:300], opt_cy[3][:300], label = 'Cyclic')\n",
        "  plt.plot(opt_rnd[2][0::10000], opt_rnd[3], label = 'Random')\n",
        "  \n",
        "  plt.legend()\n",
        "  axes = plt.gca()\n",
        "  axes.set_ylim([0.55,1.02])\n",
        "  if flag:\n",
        "    axes.set_xlim([0,100])\n",
        "\n",
        "  plt.xlabel('Time')\n",
        "  plt.ylabel('Accuracy')\n",
        "  plt.title('Time-Accuracy comparison between different methods')\n",
        "  plt.show()"
      ]
    },
    {
      "cell_type": "code",
      "execution_count": null,
      "metadata": {
        "id": "SG_sCCrRpggD"
      },
      "outputs": [],
      "source": [
        "produce_plot(opt_fix_gd, 'Gradient Descent - Fixed Stepsize',1)\n",
        "plot_err(opt_fix_gd, true_values, set_, 'Gradient Descent - Fixed Stepsize')"
      ]
    },
    {
      "cell_type": "code",
      "execution_count": null,
      "metadata": {
        "id": "rWU6GSD0pgVG"
      },
      "outputs": [],
      "source": [
        "produce_plot(opt_fix_ran, 'random',1)\n",
        "plot_err(opt_fix_ran, true_values, set_, 'Random - Fixed Stepsize')"
      ]
    },
    {
      "cell_type": "code",
      "execution_count": null,
      "metadata": {
        "id": "261d1G0fpgKm"
      },
      "outputs": [],
      "source": [
        "produce_plot(opt_fix_cyc, 'Cyclic - Fixed Stepsize',1)\n",
        "plot_err(opt_fix_cyc, true_values, set_, 'Cyclic - Fixed Stepsize')"
      ]
    },
    {
      "cell_type": "code",
      "execution_count": null,
      "metadata": {
        "id": "wtu0dmOBpf61"
      },
      "outputs": [],
      "source": [
        "produce_plot(opt_arm_gd, 'Gradient Descent - Armijo Rule',1)\n",
        "plot_err(opt_arm_gd, true_values, set_, 'Gradien Descent - Armijo Rule')"
      ]
    },
    {
      "cell_type": "code",
      "execution_count": null,
      "metadata": {
        "id": "Ugi06CLZMy9E"
      },
      "outputs": [],
      "source": [
        "produce_plot(opt_exa_gd, 'Gradient Descent - Exact line search',1)\n",
        "plot_err(opt_exa_gd, true_values, set_, 'Gradien Descent - Exact line search') "
      ]
    },
    {
      "cell_type": "code",
      "execution_count": null,
      "metadata": {
        "id": "r6S6RwXj1q3a"
      },
      "outputs": [],
      "source": [
        "produce_all_plot_loss(opt_fix_gd, opt_fix_cyc, opt_fix_ran)"
      ]
    },
    {
      "cell_type": "code",
      "execution_count": null,
      "metadata": {
        "id": "-o39D4S51-15"
      },
      "outputs": [],
      "source": [
        "produce_all_plot_acc(opt_fix_gd, opt_fix_cyc, opt_fix_ran, 1)"
      ]
    },
    {
      "cell_type": "markdown",
      "metadata": {
        "id": "OF9GoPnr9jOb"
      },
      "source": [
        "# Dataset Gender"
      ]
    },
    {
      "cell_type": "code",
      "execution_count": null,
      "metadata": {
        "id": "OrVrx-dFOJmp"
      },
      "outputs": [],
      "source": [
        "# upload the dataset from github\n",
        "url = 'https://raw.githubusercontent.com/lrdsch/gender_classification/main/gender_classification_v7.csv'\n",
        "df_gender= pd.read_csv(url)\n",
        "#long_hair,forehead_width_cm,forehead_height_cm,nose_wide,nose_long,lips_thin,distance_nose_to_lip_long,gender are the columns\n",
        "# classification  Male (1) & Female (-1); we have 7 features + 1 column for classification\n",
        "df_gender.head()\n"
      ]
    },
    {
      "cell_type": "code",
      "execution_count": null,
      "metadata": {
        "id": "EeCSvPkGPbdA"
      },
      "outputs": [],
      "source": [
        "# normalize data\n",
        "n_df_gender=normalize(df_gender)\n",
        "\n",
        "# create two different dataset\n",
        "df_male=n_df_gender[n_df_gender[\"gender\"] == \"Male\"] \n",
        "df_female=n_df_gender[n_df_gender[\"gender\"] == \"Female\"] \n",
        "\n",
        "# Male=1 & Female=1\n",
        "df_male.loc[:,\"gender\"] = 1\n",
        "df_female.loc[:,\"gender\"] = -1\n",
        "\n",
        "p=0.015 # percentage of labelled data\n",
        "numero_male=df_male.shape[0]             # number of male\n",
        "numero_female=df_female.shape[0]         # number of female\n",
        "p_male=math.ceil(p * numero_male)        # number of labelled male\n",
        "p_female=math.ceil(p * numero_female)    # number of labelled female\n",
        "lab_male=df_male.iloc[:p_male,:]         # dataframe of labelled male with label at the end\n",
        "lab_female=df_female.iloc[:p_female,:]   # dataframe of labelled female with label at the end \n",
        "unlab_male=df_male.iloc[p_male:,:]       # dataframe of labelled male with label at the end\n",
        "unlab_female=df_female.iloc[p_female:,:] # dataframe of UNlabelled female with label at the end\n",
        "#print(lab_male.shape,lab_female.shape,unlab_male.shape,unlab_female.shape)\n",
        "#print(df_male.shape,df_female.shape)\n",
        "\n",
        "# target vectors y_lab e y_unlab, y_unlab required for accuracy \n",
        "y_lab_df=pd.concat([lab_male.loc[:,\"gender\"], lab_female.loc[:,\"gender\"]])  # column vector (1,...1,-1,...,-1) with 78 entry\n",
        "y_unlab_df=pd.concat([unlab_male.loc[:,\"gender\"], unlab_female.loc[:,\"gender\"]]) # column vector (1,...1,-1,...,-1) with 4925 entry (2462=1 and 2463=-1)\n",
        "\n",
        "# transform into numpy array \n",
        "y_lab_array=np.array(y_lab_df[:])\n",
        "y_unlab_array=np.array(y_unlab_df[:])\n",
        "y_lab_array = np.reshape(y_lab_array,(y_lab_array.shape[0],1)) # transpose\n",
        "y_unlab_array = np.reshape(y_unlab_array,(y_unlab_array.shape[0],1)) # transpose\n",
        "\n",
        "# assign 0 to unlabelled data\n",
        "unlab_male.loc[:,\"gender\"]=0\n",
        "unlab_female.loc[:,\"gender\"]=0\n",
        "\n",
        "# creation of the final dataframe containing all the points \n",
        "df_final=pd.concat([lab_male, lab_female, unlab_male, unlab_female])\n",
        "\n",
        "# dataframe of labelled and unlabelled data\n",
        "\n",
        "df_lab=pd.concat([lab_male,lab_female])\n",
        "df_unlab=pd.concat([unlab_male,unlab_female])\n",
        "\n",
        "# transform into numpy array \n",
        "array_final=np.array(df_final)\n",
        "array_lab=np.array(df_lab)\n",
        "array_unlab=np.array(df_unlab)\n",
        "\n",
        "num, last= array_final.shape # number of total points (5001) number of features (7)\n"
      ]
    },
    {
      "cell_type": "code",
      "execution_count": null,
      "metadata": {
        "id": "NmcaZHo8MlN2"
      },
      "outputs": [],
      "source": [
        "# weights for real dataset\n",
        "W_lab, W_unlab = weight_function(array_lab, array_unlab)\n",
        "\n",
        "# weights for implement the exact line_search\n",
        "W_lab, W_unlab = weight_function(array_lab, array_unlab)\n",
        "W_lab_ls, W_unlab_ls = W_lab, W_unlab \n",
        "n_lab_p = array_lab.shape[0]\n",
        "labels_ls = np.ones((n_lab_p,1))\n",
        "labels_ls[int(n_lab_p/2):] = -1\n"
      ]
    },
    {
      "cell_type": "code",
      "source": [
        "def fun_min_ls(unk, W_lab = W_lab_ls, W_unlab= W_unlab_ls, lab=labels_ls):\n",
        "    \n",
        "    Y_lab = (lab - unk.T)**2      \n",
        "    Y_unlab = (unk - unk.T)**2    \n",
        "    fact_1 = np.sum(W_lab * Y_lab)\n",
        "    fact_2 = 0.5 * np.sum(W_unlab * Y_unlab)\n",
        "    \n",
        "    return fact_1 + fact_2 # loss_value \n",
        " \n",
        "\n",
        "def grad_ls(y, labels= labels_ls,W= W_lab_ls, W_bar=W_unlab_ls):\n",
        "    \n",
        "    g = (2 * np.sum(W * ((-labels) + y.T), axis = 0) + 2 * np.sum(W_bar * ((-y) + y.T), axis = 0))\n",
        "    \n",
        "    return g"
      ],
      "metadata": {
        "id": "xyF8c3_Nf6BG"
      },
      "execution_count": null,
      "outputs": []
    },
    {
      "cell_type": "code",
      "execution_count": null,
      "metadata": {
        "id": "B78BqBx_5u3j"
      },
      "outputs": [],
      "source": [
        "# Test different Optimization methods\n",
        "\n",
        "#FIXED\n",
        "print(\"Optimization Fixed and Gradient Decent\")\n",
        "opt_real_fix_gd = optimization(W_lab, W_unlab, array_unlab.shape[0], y_lab_array, y_unlab_array , method= 'gd', rate = 0.0001, epochs = 60, tol = 1e-3,lnsrc=\"fixed\")\n",
        "print(\"*************************************************\")\n",
        "print(\"Optimization Fixed and Random\")\n",
        "opt_real_fix_ran = optimization(W_lab, W_unlab, array_unlab.shape[0], y_lab_array, y_unlab_array , lnsrc = 'fixed', method = \"random\", epochs = 300000)\n",
        "print(\"*************************************************\")\n",
        "print(\"Optimization Fixed and Cyclic\")\n",
        "opt_real_fix_cyc = optimization(W_lab, W_unlab, array_unlab.shape[0], y_lab_array, y_unlab_array , lnsrc = 'fixed', method = 'cyclic', epochs = 50)\n",
        "print(\"*************************************************\")\n",
        "\n",
        "#ARMIJO\n",
        "print(\"Optimization Armijo and Gradient Descent\")\n",
        "opt_real_arm_gd = optimization(W_lab, W_unlab, array_unlab.shape[0], y_lab_array, y_unlab_array , lnsrc = 'armijo', method = \"gd\", epochs = 25,rate = 0.0001)\n",
        "print(\"*************************************************\")\n",
        "\n",
        "\n",
        "#EXACT \n",
        "print(\"Optimization Exact and Gradient Descent\")\n",
        "opt_real_exa_gd = optimization(W_lab, W_unlab,array_unlab.shape[0], y_lab_array, y_unlab_array , lnsrc = 'exact', method = \"gd\", epochs = 25)\n",
        "print(\"*************************************************\")"
      ]
    },
    {
      "cell_type": "code",
      "execution_count": null,
      "metadata": {
        "id": "NJ8P6RxzZ9ct"
      },
      "outputs": [],
      "source": [
        "produce_plot(opt_real_fix_gd, 'Gradient Descent - Fixed Stepsize',0)"
      ]
    },
    {
      "cell_type": "code",
      "execution_count": null,
      "metadata": {
        "id": "rU767ywKa9Mt"
      },
      "outputs": [],
      "source": [
        "produce_plot(opt_real_fix_ran, 'random',0)"
      ]
    },
    {
      "cell_type": "code",
      "execution_count": null,
      "metadata": {
        "id": "W2Kh7cX1a-xO"
      },
      "outputs": [],
      "source": [
        "produce_plot(opt_real_fix_cyc, 'Cyclic - Fixed Stepsize',0)"
      ]
    },
    {
      "cell_type": "code",
      "execution_count": null,
      "metadata": {
        "id": "JTm5zomWbAdV"
      },
      "outputs": [],
      "source": [
        "produce_plot(opt_real_arm_gd, 'Gradient Descent - Armijo Rule',0)"
      ]
    },
    {
      "cell_type": "code",
      "execution_count": null,
      "metadata": {
        "id": "2cczzekyNTeb"
      },
      "outputs": [],
      "source": [
        "produce_plot(opt_real_exa_gd, 'Gradient Descent - Exact line search',0)"
      ]
    },
    {
      "cell_type": "code",
      "execution_count": null,
      "metadata": {
        "id": "33UUSvkHbBuC"
      },
      "outputs": [],
      "source": [
        "produce_all_plot_loss(opt_real_fix_gd, opt_real_fix_cyc, opt_real_fix_ran)"
      ]
    },
    {
      "cell_type": "code",
      "execution_count": null,
      "metadata": {
        "id": "GX3lKwJVbCtl"
      },
      "outputs": [],
      "source": [
        "produce_all_plot_acc(opt_real_fix_gd, opt_real_fix_cyc, opt_real_fix_ran,0)"
      ]
    }
  ],
  "metadata": {
    "colab": {
      "collapsed_sections": [],
      "name": "OPT_hw1.ipynb",
      "provenance": []
    },
    "kernelspec": {
      "display_name": "Python 3",
      "name": "python3"
    },
    "language_info": {
      "name": "python"
    }
  },
  "nbformat": 4,
  "nbformat_minor": 0
}